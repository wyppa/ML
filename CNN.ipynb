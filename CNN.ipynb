{
 "cells": [
  {
   "cell_type": "code",
   "execution_count": null,
   "id": "5bc4a2f1",
   "metadata": {},
   "outputs": [],
   "source": []
  },
  {
   "cell_type": "code",
   "execution_count": 13,
   "id": "70356c7a",
   "metadata": {},
   "outputs": [],
   "source": [
    "import torch\n",
    "import torch.nn as nn\n",
    "import torch.nn.functional as F\n",
    "import numpy as np\n",
    "from torch.utils.data import Dataset, DataLoader"
   ]
  },
  {
   "cell_type": "code",
   "execution_count": 14,
   "id": "bc72d0bf",
   "metadata": {},
   "outputs": [],
   "source": [
    "device = torch.device(\"cuda:0\" if torch.cuda.is_available() else \"cpu\")"
   ]
  },
  {
   "cell_type": "code",
   "execution_count": 15,
   "id": "9ae9f49c",
   "metadata": {},
   "outputs": [],
   "source": [
    "train_path = '../dataset/mnist/MNIST/processed/training.pt'\n",
    "test_path = '../dataset/mnist/MNIST/processed/test.pt'"
   ]
  },
  {
   "cell_type": "code",
   "execution_count": 16,
   "id": "54822350",
   "metadata": {},
   "outputs": [],
   "source": [
    "class Data(Dataset):\n",
    "    def __init__(self, path):\n",
    "        self.features, self.labels = torch.load(path)\n",
    "        self.len = self.features.size(0)\n",
    "        self.features = (self.features.float()/255).view(-1,1,28,28)\n",
    "        \n",
    "    def __getitem__(self,index):\n",
    "        return self.features[index], self.labels[index]\n",
    "        \n",
    "    def __len__(self):\n",
    "        return self.len"
   ]
  },
  {
   "cell_type": "code",
   "execution_count": 17,
   "id": "3893a055",
   "metadata": {},
   "outputs": [],
   "source": [
    "train_dataset = Data(train_path)\n",
    "test_dataset = Data(test_path)\n",
    "train_loader = DataLoader(dataset = train_dataset, batch_size=64, shuffle=True)\n",
    "test_loader = DataLoader(dataset = test_dataset, batch_size=64, shuffle=True)"
   ]
  },
  {
   "cell_type": "code",
   "execution_count": 18,
   "id": "a8d32b40",
   "metadata": {},
   "outputs": [],
   "source": [
    "class CNN(nn.Module):\n",
    "    def __init__(self):\n",
    "        super(CNN,self).__init__()\n",
    "        self.conv1 = nn.Conv2d(1,10,kernel_size=5, stride = 1,padding=2)\n",
    "        self.conv2 = nn.Conv2d(10,20,kernel_size=5, stride = 1, padding=2)\n",
    "        self.mp = nn.MaxPool2d(2)\n",
    "        self.l1 = nn.Linear(980, 192)\n",
    "        self.l2 = nn.Linear(192, 10)\n",
    "        \n",
    "    def forward(self,x):\n",
    "        batch_size= x.size(0)\n",
    "        x = self.mp(F.relu(self.conv1(x)))\n",
    "        x = self.mp(F.relu(self.conv2(x)))\n",
    "        x = x.view(batch_size, -1)\n",
    "        x = F.relu(self.l1(x))\n",
    "        x = F.softmax(self.l2(x))\n",
    "        return x\n",
    "    "
   ]
  },
  {
   "cell_type": "code",
   "execution_count": 19,
   "id": "b9448c08",
   "metadata": {},
   "outputs": [],
   "source": [
    "model = CNN().to(device)"
   ]
  },
  {
   "cell_type": "code",
   "execution_count": 20,
   "id": "fcf4eb3d",
   "metadata": {},
   "outputs": [],
   "source": [
    "loss = nn.CrossEntropyLoss()\n",
    "optimizer = torch.optim.SGD(model.parameters(), lr=0.01, momentum=0.9)"
   ]
  },
  {
   "cell_type": "code",
   "execution_count": 21,
   "id": "88c38a24",
   "metadata": {},
   "outputs": [],
   "source": [
    "def train(epoch):\n",
    "    cost = 0\n",
    "    for i in range(epoch):\n",
    "        for index, data in enumerate(train_loader):\n",
    "            optimizer.zero_grad()\n",
    "            # x.size = [batch_size, -1, 28, 28]\n",
    "            # y.size = [batch_size]\n",
    "            x, y = data\n",
    "            x = x.to(device)\n",
    "            y = y.to(device)\n",
    "            #output.size(batch_size, 10)\n",
    "            output = model(x)\n",
    "            l = loss(output, y)\n",
    "            cost += l.item()\n",
    "            l.backward()\n",
    "            optimizer.step()\n",
    "            if index%300 == 299:\n",
    "                loss_ave = cost/300\n",
    "                print('[%5d, %5d] loss : %5f' % (i+1, index+1, loss_ave))\n",
    "                cost = 0"
   ]
  },
  {
   "cell_type": "code",
   "execution_count": 22,
   "id": "4d98c3c7",
   "metadata": {},
   "outputs": [],
   "source": [
    "def test():\n",
    "    total = 0\n",
    "    correct = 0\n",
    "    ls = 0\n",
    "    idx = 0\n",
    "    for index, (x, y) in enumerate(test_loader):\n",
    "        x = x.to(device)\n",
    "        y = y.to(device)\n",
    "        predictions = model(x)\n",
    "        l = loss(predictions, y)\n",
    "        ls += l.item()\n",
    "        #predictio\n",
    "        p = torch.max(predictions, dim=1)\n",
    "        total = y.size(0)\n",
    "        correct = torch.eq(p.indices, y).sum().item()\n",
    "        idx = index\n",
    "    acc_test = correct / total * 100\n",
    "    print('Accuracy on test set : %.3f %%' % (acc_test))\n",
    "    loss_test = ls / idx\n",
    "    return acc_test, loss_test"
   ]
  },
  {
   "cell_type": "code",
   "execution_count": 23,
   "id": "7d50185c",
   "metadata": {},
   "outputs": [
    {
     "name": "stderr",
     "output_type": "stream",
     "text": [
      "D:\\Anaconda\\envs\\pytorch\\lib\\site-packages\\ipykernel_launcher.py:16: UserWarning: Implicit dimension choice for softmax has been deprecated. Change the call to include dim=X as an argument.\n",
      "  app.launch_new_instance()\n"
     ]
    },
    {
     "name": "stdout",
     "output_type": "stream",
     "text": [
      "[    1,   300] loss : 2.234765\n",
      "[    1,   600] loss : 1.733368\n",
      "[    1,   900] loss : 1.638447\n",
      "[    2,   300] loss : 1.817114\n",
      "[    2,   600] loss : 1.603620\n",
      "[    2,   900] loss : 1.570740\n",
      "[    3,   300] loss : 1.703996\n",
      "[    3,   600] loss : 1.505391\n",
      "[    3,   900] loss : 1.498169\n",
      "[    4,   300] loss : 1.682638\n",
      "[    4,   600] loss : 1.493220\n",
      "[    4,   900] loss : 1.491034\n",
      "[    5,   300] loss : 1.678332\n",
      "[    5,   600] loss : 1.484697\n",
      "[    5,   900] loss : 1.487667\n"
     ]
    }
   ],
   "source": [
    "train(5)"
   ]
  },
  {
   "cell_type": "code",
   "execution_count": 24,
   "id": "9bad9e12",
   "metadata": {},
   "outputs": [
    {
     "name": "stderr",
     "output_type": "stream",
     "text": [
      "D:\\Anaconda\\envs\\pytorch\\lib\\site-packages\\ipykernel_launcher.py:16: UserWarning: Implicit dimension choice for softmax has been deprecated. Change the call to include dim=X as an argument.\n",
      "  app.launch_new_instance()\n"
     ]
    },
    {
     "name": "stdout",
     "output_type": "stream",
     "text": [
      "Accuracy on test set : 93.750 %\n"
     ]
    },
    {
     "data": {
      "text/plain": [
       "(93.75, 1.4944715927808712)"
      ]
     },
     "execution_count": 24,
     "metadata": {},
     "output_type": "execute_result"
    }
   ],
   "source": [
    "test()"
   ]
  },
  {
   "cell_type": "code",
   "execution_count": null,
   "id": "b1aee1be",
   "metadata": {},
   "outputs": [],
   "source": []
  }
 ],
 "metadata": {
  "kernelspec": {
   "display_name": "Python [conda env:pytorch]",
   "language": "python",
   "name": "conda-env-pytorch-py"
  },
  "language_info": {
   "codemirror_mode": {
    "name": "ipython",
    "version": 3
   },
   "file_extension": ".py",
   "mimetype": "text/x-python",
   "name": "python",
   "nbconvert_exporter": "python",
   "pygments_lexer": "ipython3",
   "version": "3.7.11"
  }
 },
 "nbformat": 4,
 "nbformat_minor": 5
}
