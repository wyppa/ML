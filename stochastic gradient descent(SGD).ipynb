{
 "cells": [
  {
   "cell_type": "code",
   "execution_count": 1,
   "metadata": {},
   "outputs": [],
   "source": [
    "import torch\n",
    "import torch.nn as nn\n",
    "import numpy as np\n",
    "import torch.nn.functional as f\n",
    "import torch.optim as optim\n",
    "import random\n",
    "import matplotlib.pyplot as plt"
   ]
  },
  {
   "cell_type": "code",
   "execution_count": 2,
   "metadata": {},
   "outputs": [],
   "source": [
    "features_num = 2\n",
    "examples_num = 500\n",
    "true_w = [-2, 3]\n",
    "true_b = 2\n",
    "\n",
    "features_data = torch.randn(examples_num, features_num, dtype = torch.float32)\n",
    "lables = true_w[0] * features_data[:, 0] + true_w[1] * features_data[:, 1] + true_b\n",
    "lables += torch.tensor(np.random.normal(0, 0.01, size = lables.size()), dtype = torch.float32)"
   ]
  },
  {
   "cell_type": "code",
   "execution_count": 5,
   "metadata": {},
   "outputs": [
    {
     "data": {
      "text/plain": [
       "tensor([ 4.7969,  4.7533, -1.4009,  5.6606,  0.5980, -3.8945,  2.2537,  5.9878,\n",
       "         6.0781,  8.6045, -3.1374,  9.1103,  3.6442, -0.1866,  4.7580,  4.4866,\n",
       "         3.0109,  2.2165,  0.7750,  0.8517,  0.2975,  1.2645,  3.5091,  2.1496,\n",
       "         8.6825,  4.0323, -3.0206,  4.9446,  2.8411, 10.6841, -1.2538,  4.9277,\n",
       "        -1.7965, -0.1555,  3.3217, -1.1097, -0.4421,  1.2360, -2.8367,  5.9586,\n",
       "         0.5917,  2.1194,  4.5659,  1.1647,  1.4896, -3.5533, -0.1315,  0.1986,\n",
       "         0.8243,  0.5402, -1.2893,  4.2098,  1.2506,  2.0115,  3.2453, -0.6699,\n",
       "         3.3153,  2.0010,  3.7762,  4.2559,  0.0900,  4.6130,  2.1823,  5.6813,\n",
       "        -1.5414,  3.3543,  5.4229,  4.7654, -1.4235,  0.0386,  0.3626, -7.6214,\n",
       "         8.0404, -4.4544,  3.9117,  1.4200, 11.2797, -1.8119,  2.7420,  7.1478,\n",
       "         5.9581,  1.6343,  0.2898, -0.1072,  0.2413, -2.2891,  1.5181,  1.2633,\n",
       "         4.6473, -2.5349,  2.5419, -2.3760,  2.9704, -2.5051,  0.5391, -0.0347,\n",
       "         1.6341,  2.4561, -7.4742,  3.4896, -0.3041,  2.9893, -2.3020,  7.7188,\n",
       "        -0.8802,  2.8109,  7.5644, 12.4064, -1.9684,  5.5602, -1.8027,  0.3204,\n",
       "        -2.0583, -0.0890,  0.0838,  1.0356, -2.2528,  0.7856, -3.4271,  1.5362,\n",
       "         4.6560,  5.7984,  3.0389,  1.0781,  4.4712, -7.5037,  3.4702, -1.9340,\n",
       "         0.3494, -2.1792,  3.5898,  1.6747,  6.3255,  6.5291, -3.0563, -0.1996,\n",
       "         2.9127,  1.1391,  0.3440, -3.6707,  0.4256,  2.6319, -1.6005,  4.7556,\n",
       "         1.9846, -1.6654,  0.2938,  1.0416,  6.2375,  1.2608, -0.4110, -5.1756,\n",
       "         6.3782,  3.4570,  2.6135, -0.0267, -1.5057,  3.4444,  9.3587,  6.3160,\n",
       "         5.3881,  0.8388,  3.4483,  6.9930,  6.3548, -2.6483, -1.1595, -5.6855,\n",
       "         1.8664,  2.4692,  8.0304,  7.9079, -0.0611,  5.3679,  2.5825, -2.5818,\n",
       "         3.5082,  7.0888,  6.8287,  4.3635,  3.5120,  6.9381, -2.6104,  4.9944,\n",
       "        -4.6436,  0.1550, -0.3470, -3.0296, -1.4207,  6.7414,  4.1065,  5.3488,\n",
       "        -0.1284,  4.8204, -1.1094,  1.8030, -0.7395,  2.3508,  2.3177, -4.2010,\n",
       "         1.6481,  3.9613, -0.4152,  0.3738, -7.6730, -2.0387,  9.0984, -0.8457,\n",
       "        10.9592,  3.7631,  0.9556,  2.1598,  5.5405,  4.5703,  8.1881,  9.9946,\n",
       "        -1.4641, -0.7901,  4.9809, -2.4196, -1.5025, -2.9452,  2.4731, -1.0769,\n",
       "         0.9595,  1.6774,  0.5032, -1.9621,  8.1625,  4.2364, -5.3719,  0.5983,\n",
       "         2.0849, -1.4817, -2.7987, -1.0227,  0.5680,  0.4714, -1.0995,  3.1356,\n",
       "         4.5059,  1.6249,  3.7874,  1.6176,  7.8080,  5.1934,  2.0503,  0.1066,\n",
       "         7.9483,  3.9205,  1.1177,  5.7349, -0.1279,  4.9777, -1.1492, -1.3812,\n",
       "         3.7221,  0.3194,  5.2007,  4.4989,  4.0975,  6.1047,  6.0284,  3.6657,\n",
       "         0.7264,  0.5951,  5.5460,  1.9831,  2.5312, -1.3539,  2.8592, -0.2479,\n",
       "         2.3685, -4.3204,  3.2610,  2.1725,  1.4541, -1.2723, -2.0840,  4.1219,\n",
       "         4.1444,  1.6763, -0.0736,  1.1785,  2.0809,  0.3534,  7.2693, -3.1972,\n",
       "         0.9084, -2.6926,  1.9970,  3.5527,  2.6017, -2.2599, -2.3480, -0.3239,\n",
       "         1.2742,  2.7212,  3.0060, -3.3748,  6.2372,  9.4591,  1.8285,  1.3935,\n",
       "         1.2993, -2.6088, -1.5675,  1.2875,  5.8275, -0.6507,  1.8705,  0.0785,\n",
       "         8.4555,  8.1389,  5.0687,  1.0754, -6.6157,  5.2824,  3.1934, -2.8745,\n",
       "         6.5889,  6.5382, -3.5140, -0.2204,  3.2003,  2.8979,  6.0117,  3.1775,\n",
       "         4.1003,  0.9274,  9.3775,  5.4289, -1.6226,  0.6890, -0.7728, -1.4540,\n",
       "         7.8477,  1.3983, -3.1871,  6.2696,  4.7008,  1.1388, -3.8716,  1.1048,\n",
       "        -1.3249, -4.6992,  2.6460,  9.5387,  1.6502,  3.4108, -3.4666,  3.8456,\n",
       "         4.3190,  4.4590, -0.8647,  6.1132,  5.6277,  1.0520, -0.8568,  3.5309,\n",
       "         3.3672,  3.4269,  2.6286,  4.2004,  4.2624,  9.6875, -2.9325,  6.1787,\n",
       "         5.7101,  4.7397,  0.4535,  3.2960, -3.8210,  1.6074,  4.0419,  6.8366,\n",
       "         7.8981, -5.6285,  0.9017,  3.1370, -0.8488,  5.0367,  7.8544, -5.2008,\n",
       "         0.5680,  0.7795, -1.0626,  6.2881,  2.2856,  3.0338, -0.9910,  0.8615,\n",
       "         2.7563, -0.8958,  3.0312,  7.1068,  6.2163, -3.3330,  2.1965, -2.6824,\n",
       "         3.7256,  0.7770, -1.3006, -5.5167, -4.6659,  1.7168, -5.7705,  5.6966,\n",
       "         5.3688,  3.3561,  3.9873,  0.0324,  0.9754,  4.8835, -1.5185,  3.0412,\n",
       "        -4.0880,  1.8128,  2.7377,  2.7656,  5.8574,  0.2923, -2.0361, -4.2104,\n",
       "         5.3917,  3.2769,  2.5489,  4.8884,  1.6038,  2.3829, -1.6253, -0.6995,\n",
       "         0.6910, -4.1511,  4.4135,  1.1518,  4.4851, -0.5701, -1.4558,  0.8153,\n",
       "         7.5856,  2.1581,  4.4684,  4.9927,  5.1238,  1.8467,  6.5288,  2.0548,\n",
       "         2.1010,  3.5140,  7.1340,  3.8370,  4.3181,  5.2875, -1.1156,  2.0288,\n",
       "         0.5077,  4.2281, -0.0464,  1.2957, -1.5001,  0.9183,  0.7172,  8.8043,\n",
       "        -3.0863, -5.0760,  3.9094,  2.2193,  0.2736,  1.2518, -1.5095,  2.9105,\n",
       "        -3.2523,  4.8445,  7.3658,  0.9561, -0.3273,  3.0524,  1.1263,  4.9298,\n",
       "         5.0587, -1.1831,  7.6538, -0.4470,  3.0633,  4.9476,  8.4839, -4.6296,\n",
       "         3.0681,  1.9455, -2.8566, -0.3594, -4.6719,  3.0796, 11.4544,  1.8067,\n",
       "         4.9531,  2.2540, -0.9770,  1.2192])"
      ]
     },
     "execution_count": 5,
     "metadata": {},
     "output_type": "execute_result"
    }
   ],
   "source": [
    "lables"
   ]
  },
  {
   "cell_type": "code",
   "execution_count": 6,
   "metadata": {},
   "outputs": [],
   "source": [
    "def date_iter(features, lables, batch_size):\n",
    "    data_num = len(features)\n",
    "    indices = list(range(data_num))\n",
    "    random.shuffle(indices)\n",
    "    for i in range(0, data_num, batch_size):\n",
    "        j = torch.LongTensor(indices[i: min(i+batch_size, data_num)])\n",
    "        yield features.index_select(0,j), lables.index_select(0,j)\n"
   ]
  },
  {
   "cell_type": "code",
   "execution_count": 7,
   "metadata": {},
   "outputs": [],
   "source": [
    "class net(nn.Module):\n",
    "    def __init__(self):\n",
    "        super(net,self).__init__()\n",
    "        self.l1 = nn.Linear(features_num, 1)\n",
    "        \n",
    "    def forward(self, x):\n",
    "        out = self.l1(x)\n",
    "        return out\n"
   ]
  },
  {
   "cell_type": "code",
   "execution_count": 8,
   "metadata": {},
   "outputs": [],
   "source": [
    "test_net = net()\n",
    "loss = nn.MSELoss()\n",
    "loss_list = []\n",
    "learning_rate = 0.045\n",
    "step = 100\n",
    "batch_size = 10\n",
    "optimizer = optim.SGD(test_net.parameters(), lr = learning_rate)"
   ]
  },
  {
   "cell_type": "code",
   "execution_count": 9,
   "metadata": {},
   "outputs": [],
   "source": [
    "for epoch in range(step):\n",
    "    for x, y in date_iter(features_data, lables, batch_size):\n",
    "        optimizer.zero_grad()\n",
    "        output = test_net(x)\n",
    "        cost = loss(output, y.view(-1, 1))\n",
    "        cost.backward()\n",
    "        optimizer.step()\n",
    "    loss_list.append(cost.item())"
   ]
  },
  {
   "cell_type": "code",
   "execution_count": 10,
   "metadata": {},
   "outputs": [
    {
     "name": "stdout",
     "output_type": "stream",
     "text": [
      "true_w: [-2, 3]\n",
      "train_w Parameter containing:\n",
      "tensor([[-2.0001,  3.0021]], requires_grad=True)\n",
      "true_b: 2\n",
      "train_b Parameter containing:\n",
      "tensor([1.9997], requires_grad=True)\n"
     ]
    }
   ],
   "source": [
    "print('true_w:', true_w)\n",
    "print('train_w', test_net.l1.weight)\n",
    "print('true_b:', true_b)\n",
    "print('train_b', test_net.l1.bias)\n",
    "\n",
    "train_output = test_net(features_data)"
   ]
  },
  {
   "cell_type": "code",
   "execution_count": 11,
   "metadata": {},
   "outputs": [
    {
     "data": {
      "image/png": "[encoded data removed]",
      "text/plain": [
       "<Figure size 432x288 with 1 Axes>"
      ]
     },
     "metadata": {
      "needs_background": "light"
     },
     "output_type": "display_data"
    },
    {
     "data": {
      "image/png": "[encoded data removed]",
      "text/plain": [
       "<Figure size 432x288 with 1 Axes>"
      ]
     },
     "metadata": {
      "needs_background": "light"
     },
     "output_type": "display_data"
    }
   ],
   "source": [
    "plt.figure(1)\n",
    "plt.plot(range(0,examples_num),train_output.detach().numpy().tolist(),'*')\n",
    "plt.plot(range(0,examples_num),lables.detach().numpy().tolist(),'.')\n",
    "plt.show()\n",
    "plt.figure(2)\n",
    "plt.plot(range(0,step),loss_list,'o-')\n",
    "plt.show()"
   ]
  },
  {
   "cell_type": "code",
   "execution_count": null,
   "metadata": {},
   "outputs": [],
   "source": []
  }
 ],
 "metadata": {
  "kernelspec": {
   "display_name": "Python [conda env:pytorch]",
   "language": "python",
   "name": "conda-env-pytorch-py"
  },
  "language_info": {
   "codemirror_mode": {
    "name": "ipython",
    "version": 3
   },
   "file_extension": ".py",
   "mimetype": "text/x-python",
   "name": "python",
   "nbconvert_exporter": "python",
   "pygments_lexer": "ipython3",
   "version": "3.7.11"
  }
 },
 "nbformat": 4,
 "nbformat_minor": 4
}
